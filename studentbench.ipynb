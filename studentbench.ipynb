{
 "cells": [
  {
   "cell_type": "markdown",
   "source": [
    "# Student Distillation Benchmark"
   ],
   "metadata": {
    "collapsed": false
   },
   "id": "3a0cedbe8720bd5"
  },
  {
   "cell_type": "code",
   "execution_count": 3,
   "outputs": [
    {
     "name": "stderr",
     "output_type": "stream",
     "text": [
      "/usr/lib/python3/dist-packages/paramiko/transport.py:220: CryptographyDeprecationWarning: Blowfish has been deprecated\n",
      "  \"class\": algorithms.Blowfish,\n"
     ]
    }
   ],
   "source": [
    "import time\n",
    "import os\n",
    "import json\n",
    "import random\n",
    "import numpy as np\n",
    "import librosa\n",
    "import hashlib\n",
    "import sounddevice as sd\n",
    "import matplotlib.pyplot as plt\n",
    "import pickle as pkl\n",
    "import dill as pickle\n",
    "import datetime\n",
    "from torchsummary import summary\n",
    "\n",
    "import torch\n",
    "import torch.nn as nn\n",
    "import torchaudio\n",
    "from torch.utils.data import DataLoader\n",
    "\n",
    "from src.resnet import ResNet\n",
    "from src.train import test\n",
    "from src.dataset import GoogleSpeechCommandsDataset\n",
    "import matplotlib.pyplot as plt"
   ],
   "metadata": {
    "collapsed": false,
    "ExecuteTime": {
     "end_time": "2024-02-04T20:42:15.556346013Z",
     "start_time": "2024-02-04T20:42:01.962961710Z"
    }
   },
   "id": "c3b1fd572b092bbe"
  },
  {
   "cell_type": "code",
   "execution_count": 4,
   "outputs": [],
   "source": [
    "use_cpu = False\n",
    "is_spiking = False\n",
    "path = 'models/'\n",
    "model_name = 'student_resnet_ep60_acc92_sprs0.pt'\n",
    "data_test_dir = '/home/marcel/Source/Python/DLOptimization/data/speech_commands_test_set_v0.02'\n",
    "data_cache_dir = '/home/marcel/Source/Python/DLOptimization/cache/data/'"
   ],
   "metadata": {
    "collapsed": false,
    "ExecuteTime": {
     "end_time": "2024-02-04T20:42:43.154835990Z",
     "start_time": "2024-02-04T20:42:43.113507310Z"
    }
   },
   "id": "4f6e3b13ce69b874"
  },
  {
   "cell_type": "code",
   "execution_count": 7,
   "outputs": [],
   "source": [
    "# Load model\n",
    "torch.set_flush_denormal(True)\n",
    "device = torch.device(\"cuda\" if not use_cpu and torch.cuda.is_available() else \"cpu\")\n",
    "model_path = str(os.path.join(path, model_name))\n",
    "model = ResNet.from_state_dict(torch.load(model_path), initial_channels=32, stage_channels=[32, 64, 128], stage_stride=[1, 2, 2], spiking=is_spiking)\n",
    "model.to(device)\n",
    "criterion = nn.CrossEntropyLoss()"
   ],
   "metadata": {
    "collapsed": false,
    "ExecuteTime": {
     "end_time": "2024-02-04T20:46:44.783452936Z",
     "start_time": "2024-02-04T20:46:44.561016160Z"
    }
   },
   "id": "1a1973fc3b73ff4"
  },
  {
   "cell_type": "code",
   "execution_count": 8,
   "outputs": [
    {
     "name": "stderr",
     "output_type": "stream",
     "text": [
      "/home/marcel/Source/Python/Sketchbook/venv/lib/python3.8/site-packages/torchaudio/functional/functional.py:571: UserWarning: At least one mel filterbank has all zero values. The value for `n_mels` (128) may be set too high. Or, the value for `n_freqs` (201) may be set too low.\n",
      "  warnings.warn(\n"
     ]
    },
    {
     "name": "stdout",
     "output_type": "stream",
     "text": [
      "--- Test Dataset ---\n",
      "Path:\t/home/marcel/Source/Python/DLOptimization/data/speech_commands_test_set_v0.02\n",
      "Cache:\t/home/marcel/Source/Python/DLOptimization/cache/data/speech_commands_test_set_v0.02\n",
      "Labels:\t('up', 'down', 'left', 'right', 'go', 'stop', 'yes', 'no', 'on', 'off')\n",
      "Length:\t4074\n"
     ]
    }
   ],
   "source": [
    "# Load data\n",
    "test_data = GoogleSpeechCommandsDataset(data_test_dir, data_cache_dir, encoder='mel', augment=0, train=False)\n",
    "test_data.precache()\n",
    "test_loader = DataLoader(test_data, batch_size=64 if not is_spiking else 8, shuffle=True)"
   ],
   "metadata": {
    "collapsed": false,
    "ExecuteTime": {
     "end_time": "2024-02-04T20:46:48.322826537Z",
     "start_time": "2024-02-04T20:46:47.902425086Z"
    }
   },
   "id": "b76564e9599ab309"
  },
  {
   "cell_type": "code",
   "execution_count": 9,
   "outputs": [
    {
     "name": "stdout",
     "output_type": "stream",
     "text": [
      "----------------------------------------------------------------\n",
      "        Layer (type)               Output Shape         Param #\n",
      "================================================================\n",
      "         QuantStub-1          [-1, 1, 128, 111]               0\n",
      "            Conv2d-2         [-1, 32, 128, 111]             288\n",
      "       BatchNorm2d-3         [-1, 32, 128, 111]              64\n",
      "              ReLU-4         [-1, 32, 128, 111]               0\n",
      "            Conv2d-5         [-1, 32, 128, 111]           9,216\n",
      "       BatchNorm2d-6         [-1, 32, 128, 111]              64\n",
      "              ReLU-7         [-1, 32, 128, 111]               0\n",
      "            Conv2d-8         [-1, 32, 128, 111]           9,216\n",
      "       BatchNorm2d-9         [-1, 32, 128, 111]              64\n",
      "      DeQuantStub-10         [-1, 32, 128, 111]               0\n",
      "      DeQuantStub-11         [-1, 32, 128, 111]               0\n",
      "        QuantStub-12         [-1, 32, 128, 111]               0\n",
      "             ReLU-13         [-1, 32, 128, 111]               0\n",
      "         ResBlock-14         [-1, 32, 128, 111]               0\n",
      "           Conv2d-15         [-1, 32, 128, 111]           9,216\n",
      "      BatchNorm2d-16         [-1, 32, 128, 111]              64\n",
      "             ReLU-17         [-1, 32, 128, 111]               0\n",
      "           Conv2d-18         [-1, 32, 128, 111]           9,216\n",
      "      BatchNorm2d-19         [-1, 32, 128, 111]              64\n",
      "      DeQuantStub-20         [-1, 32, 128, 111]               0\n",
      "      DeQuantStub-21         [-1, 32, 128, 111]               0\n",
      "        QuantStub-22         [-1, 32, 128, 111]               0\n",
      "             ReLU-23         [-1, 32, 128, 111]               0\n",
      "         ResBlock-24         [-1, 32, 128, 111]               0\n",
      "           Conv2d-25           [-1, 64, 64, 56]          18,432\n",
      "      BatchNorm2d-26           [-1, 64, 64, 56]             128\n",
      "             ReLU-27           [-1, 64, 64, 56]               0\n",
      "           Conv2d-28           [-1, 64, 64, 56]          36,864\n",
      "      BatchNorm2d-29           [-1, 64, 64, 56]             128\n",
      "           Conv2d-30           [-1, 64, 64, 56]           2,048\n",
      "      BatchNorm2d-31           [-1, 64, 64, 56]             128\n",
      "      DeQuantStub-32           [-1, 64, 64, 56]               0\n",
      "      DeQuantStub-33           [-1, 64, 64, 56]               0\n",
      "        QuantStub-34           [-1, 64, 64, 56]               0\n",
      "             ReLU-35           [-1, 64, 64, 56]               0\n",
      "         ResBlock-36           [-1, 64, 64, 56]               0\n",
      "           Conv2d-37           [-1, 64, 64, 56]          36,864\n",
      "      BatchNorm2d-38           [-1, 64, 64, 56]             128\n",
      "             ReLU-39           [-1, 64, 64, 56]               0\n",
      "           Conv2d-40           [-1, 64, 64, 56]          36,864\n",
      "      BatchNorm2d-41           [-1, 64, 64, 56]             128\n",
      "      DeQuantStub-42           [-1, 64, 64, 56]               0\n",
      "      DeQuantStub-43           [-1, 64, 64, 56]               0\n",
      "        QuantStub-44           [-1, 64, 64, 56]               0\n",
      "             ReLU-45           [-1, 64, 64, 56]               0\n",
      "         ResBlock-46           [-1, 64, 64, 56]               0\n",
      "           Conv2d-47          [-1, 128, 32, 28]          73,728\n",
      "      BatchNorm2d-48          [-1, 128, 32, 28]             256\n",
      "             ReLU-49          [-1, 128, 32, 28]               0\n",
      "           Conv2d-50          [-1, 128, 32, 28]         147,456\n",
      "      BatchNorm2d-51          [-1, 128, 32, 28]             256\n",
      "           Conv2d-52          [-1, 128, 32, 28]           8,192\n",
      "      BatchNorm2d-53          [-1, 128, 32, 28]             256\n",
      "      DeQuantStub-54          [-1, 128, 32, 28]               0\n",
      "      DeQuantStub-55          [-1, 128, 32, 28]               0\n",
      "        QuantStub-56          [-1, 128, 32, 28]               0\n",
      "             ReLU-57          [-1, 128, 32, 28]               0\n",
      "         ResBlock-58          [-1, 128, 32, 28]               0\n",
      "           Conv2d-59          [-1, 128, 32, 28]         147,456\n",
      "      BatchNorm2d-60          [-1, 128, 32, 28]             256\n",
      "             ReLU-61          [-1, 128, 32, 28]               0\n",
      "           Conv2d-62          [-1, 128, 32, 28]         147,456\n",
      "      BatchNorm2d-63          [-1, 128, 32, 28]             256\n",
      "      DeQuantStub-64          [-1, 128, 32, 28]               0\n",
      "      DeQuantStub-65          [-1, 128, 32, 28]               0\n",
      "        QuantStub-66          [-1, 128, 32, 28]               0\n",
      "             ReLU-67          [-1, 128, 32, 28]               0\n",
      "         ResBlock-68          [-1, 128, 32, 28]               0\n",
      "        AvgPool2d-69            [-1, 128, 8, 7]               0\n",
      "           Linear-70                   [-1, 10]          71,690\n",
      "      DeQuantStub-71                   [-1, 10]               0\n",
      "================================================================\n",
      "Total params: 766,442\n",
      "Trainable params: 766,442\n",
      "Non-trainable params: 0\n",
      "----------------------------------------------------------------\n",
      "Input size (MB): 0.05\n",
      "Forward/backward pass size (MB): 137.69\n",
      "Params size (MB): 2.92\n",
      "Estimated Total Size (MB): 140.67\n",
      "----------------------------------------------------------------\n"
     ]
    }
   ],
   "source": [
    "summary(model, input_size=(1, 128, 111))"
   ],
   "metadata": {
    "collapsed": false,
    "ExecuteTime": {
     "end_time": "2024-02-04T20:47:08.256690218Z",
     "start_time": "2024-02-04T20:46:51.817046894Z"
    }
   },
   "id": "4a3a413732de5e31"
  },
  {
   "cell_type": "code",
   "execution_count": 10,
   "outputs": [
    {
     "name": "stdout",
     "output_type": "stream",
     "text": [
      "\n",
      "--- Test Results ---\n",
      "-> Accuracy Validation on CUDA\n",
      "Test [0/4074 (0%)]\tCorrect: 44/4074\tACC: 1.08%\tEpoch: None\n",
      "Test [640/4074 (16%)]\tCorrect: 533/4074\tACC: 13.08%\tEpoch: None\n",
      "Test [1280/4074 (31%)]\tCorrect: 994/4074\tACC: 24.40%\tEpoch: None\n",
      "Test [1920/4074 (47%)]\tCorrect: 1482/4074\tACC: 36.38%\tEpoch: None\n",
      "Test [2560/4074 (62%)]\tCorrect: 1976/4074\tACC: 48.50%\tEpoch: None\n",
      "Test [3200/4074 (78%)]\tCorrect: 2455/4074\tACC: 60.26%\tEpoch: None\n",
      "Test [3840/4074 (94%)]\tCorrect: 2926/4074\tACC: 71.82%\tEpoch: None\n",
      "-> Performance Testing on CPU\n",
      "\t-> Model caching...\n",
      "\t-> CPU time testing...\n",
      "\t\t1. run (0.071713s)\n",
      "\t\t2. run (0.062405s)\n",
      "\t\t3. run (0.058186s)\n",
      "\t\t4. run (0.058019s)\n",
      "\t\t5. run (0.062156s)\n",
      "\t\t6. run (0.057166s)\n",
      "\t\t7. run (0.060472s)\n",
      "\t\t8. run (0.060378s)\n",
      "\t\t9. run (0.063813s)\n",
      "\t\t10. run (0.054924s)\n",
      "\t\t11. run (0.059308s)\n",
      "\t\t12. run (0.053054s)\n",
      "\t\t13. run (0.068546s)\n",
      "\t\t14. run (0.085825s)\n",
      "\t\t15. run (0.087715s)\n",
      "\t\t16. run (0.086878s)\n",
      "\t\t17. run (0.08653s)\n",
      "\t\t18. run (0.077075s)\n",
      "\t\t19. run (0.058235s)\n",
      "\t\t20. run (0.084409s)\n",
      "\t\t21. run (0.085965s)\n",
      "\t\t22. run (0.087244s)\n",
      "\t\t23. run (0.06636s)\n",
      "\t\t24. run (0.05793s)\n",
      "\t\t25. run (0.064511s)\n",
      "\t\t26. run (0.059878s)\n",
      "\t\t27. run (0.054227s)\n",
      "\t\t28. run (0.054928s)\n",
      "\t\t29. run (0.056096s)\n",
      "\t\t30. run (0.055967s)\n",
      "\t\t31. run (0.054864s)\n",
      "\t\t32. run (0.0548s)\n",
      "\n",
      "\tAvg. Loss:\t\t0.735440\n",
      "\tAccuracy:\t\t74.77 % (3046/4074)\n",
      "\tSparsity:\t\t0.00 %\n",
      "\tAvg. Weight:\t0.08\n",
      "\tNum. Params:\t3626708\n",
      "\tModel Size:\t\t3.10 Mb \n",
      "\tDevice Time:\t0.004720 s\n",
      "\tCPU Time:\t\t0.0659±0.01 s\n"
     ]
    },
    {
     "name": "stderr",
     "output_type": "stream",
     "text": [
      "/home/marcel/Source/Python/EfficientNN/src/train.py:186: UserWarning: To copy construct from a tensor, it is recommended to use sourceTensor.clone().detach() or sourceTensor.clone().detach().requires_grad_(True), rather than torch.tensor(sourceTensor).\n",
      "  tensor = torch.tensor(data, dtype=torch.float32)\n"
     ]
    }
   ],
   "source": [
    "accuracy, sparsity, significance, gpu_time, cpu_time_mean, cpu_time_std, num_params = test(model, test_loader, criterion, \n",
    "                                                                                           cpu_tests=32, return_time=True, log_interval=10, num_steps=5, device=device)"
   ],
   "metadata": {
    "collapsed": false,
    "ExecuteTime": {
     "end_time": "2024-02-04T20:49:01.719402344Z",
     "start_time": "2024-02-04T20:48:39.375959039Z"
    }
   },
   "id": "1e198ee0f308343d"
  },
  {
   "cell_type": "code",
   "execution_count": null,
   "outputs": [],
   "source": [],
   "metadata": {
    "collapsed": false
   },
   "id": "b4f366b24f66b601"
  }
 ],
 "metadata": {
  "kernelspec": {
   "display_name": "Python 3",
   "language": "python",
   "name": "python3"
  },
  "language_info": {
   "codemirror_mode": {
    "name": "ipython",
    "version": 2
   },
   "file_extension": ".py",
   "mimetype": "text/x-python",
   "name": "python",
   "nbconvert_exporter": "python",
   "pygments_lexer": "ipython2",
   "version": "2.7.6"
  }
 },
 "nbformat": 4,
 "nbformat_minor": 5
}
