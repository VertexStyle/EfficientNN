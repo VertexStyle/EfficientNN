{
 "cells": [
  {
   "cell_type": "code",
   "execution_count": 30,
   "id": "initial_id",
   "metadata": {
    "collapsed": true,
    "ExecuteTime": {
     "end_time": "2024-01-18T21:26:10.110594426Z",
     "start_time": "2024-01-18T21:26:00.056900880Z"
    }
   },
   "outputs": [],
   "source": [
    "import torch\n",
    "from src.resnet import ResNet"
   ]
  },
  {
   "cell_type": "code",
   "execution_count": 31,
   "outputs": [],
   "source": [
    "model = ResNet.from_state_dict(torch.load('runs/baseline_gr-baseline_resnet_2024-01-18_21-49/checkpoint/resnet_ep1_acc100_sprs0_.pt'))"
   ],
   "metadata": {
    "collapsed": false,
    "ExecuteTime": {
     "end_time": "2024-01-18T21:27:39.067696911Z",
     "start_time": "2024-01-18T21:26:01.056583832Z"
    }
   },
   "id": "60d746eda2605c86"
  },
  {
   "cell_type": "code",
   "execution_count": 32,
   "outputs": [
    {
     "name": "stdout",
     "output_type": "stream",
     "text": [
      "tensor([[ 1.9393, -1.4409, -1.2533, -1.2056, -1.0202, -1.5568, -1.1396, -1.0405,\n",
      "         -1.1839, -0.8565]], grad_fn=<AddmmBackward0>)\n"
     ]
    },
    {
     "data": {
      "text/plain": "44.990297"
     },
     "execution_count": 32,
     "metadata": {},
     "output_type": "execute_result"
    }
   ],
   "source": [
    "inp = torch.rand(1, *model.in_shape)\n",
    "print(model(inp))\n",
    "model.model_size()"
   ],
   "metadata": {
    "collapsed": false,
    "ExecuteTime": {
     "end_time": "2024-01-18T21:27:40.376199058Z",
     "start_time": "2024-01-18T21:27:22.147479684Z"
    }
   },
   "id": "dfd8c5f1c3863bd6"
  },
  {
   "cell_type": "code",
   "execution_count": 33,
   "outputs": [
    {
     "name": "stdout",
     "output_type": "stream",
     "text": [
      "tensor([[ 0.1923, -0.0970, -0.1289, -0.0803, -0.1056, -0.0697, -0.0812,  0.0094,\n",
      "         -0.0755, -0.0614]], grad_fn=<AddmmBackward0>)\n"
     ]
    },
    {
     "data": {
      "text/plain": "44.990297"
     },
     "execution_count": 33,
     "metadata": {},
     "output_type": "execute_result"
    }
   ],
   "source": [
    "model_int8 = model.quantize(qat=True, inplace=True)\n",
    "print(model_int8(inp))\n",
    "model_int8.model_size()"
   ],
   "metadata": {
    "collapsed": false,
    "ExecuteTime": {
     "end_time": "2024-01-18T21:28:02.636255024Z",
     "start_time": "2024-01-18T21:27:31.845241330Z"
    }
   },
   "id": "70e4e43def32c2cc"
  }
 ],
 "metadata": {
  "kernelspec": {
   "display_name": "Python 3",
   "language": "python",
   "name": "python3"
  },
  "language_info": {
   "codemirror_mode": {
    "name": "ipython",
    "version": 2
   },
   "file_extension": ".py",
   "mimetype": "text/x-python",
   "name": "python",
   "nbconvert_exporter": "python",
   "pygments_lexer": "ipython2",
   "version": "2.7.6"
  }
 },
 "nbformat": 4,
 "nbformat_minor": 5
}
