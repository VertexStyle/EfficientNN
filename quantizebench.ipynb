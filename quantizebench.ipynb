{
 "cells": [
  {
   "cell_type": "code",
   "execution_count": null,
   "id": "initial_id",
   "metadata": {
    "collapsed": true
   },
   "outputs": [],
   "source": [
    "import time\n",
    "import torch\n",
    "import torch.nn as nn\n",
    "from torch.utils.data import DataLoader\n",
    "from torchsummary import summary\n",
    "import statistics\n",
    "import numpy as np\n",
    "\n",
    "from src.resnet import ResNet\n",
    "from src.train import test\n",
    "from src.dataset import GoogleSpeechCommandsDataset\n",
    "\n",
    "torch.set_flush_denormal(True)      # Important: sets small tensor values to zero\n",
    "device = torch.device(\"cuda\")"
   ]
  },
  {
   "cell_type": "code",
   "execution_count": null,
   "outputs": [],
   "source": [
    "data_test_dir = '/home/marcel/Source/Python/DLOptimization/data/speech_commands_test_set_v0.02'\n",
    "data_cache_dir = '/home/marcel/Source/Python/DLOptimization/cache/data/'\n",
    "test_data = GoogleSpeechCommandsDataset(data_test_dir, data_cache_dir, encoder='mel', augment=0, train=False)\n",
    "test_data.precache()\n",
    "test_loader = DataLoader(test_data, batch_size=64, shuffle=True)\n",
    "test_loader_cpu = DataLoader(test_data, batch_size=1, shuffle=True)\n",
    "criterion = nn.CrossEntropyLoss()"
   ],
   "metadata": {
    "collapsed": false
   },
   "id": "e9aab4992bc1255a"
  },
  {
   "cell_type": "markdown",
   "source": [
    "### Post Training Static Quantization"
   ],
   "metadata": {
    "collapsed": false
   },
   "id": "121473d80605aee7"
  },
  {
   "cell_type": "code",
   "execution_count": null,
   "outputs": [],
   "source": [
    "base = 'models/resnet_ep55_acc99_sprs0.pt'\n",
    "model_base = ResNet.from_state_dict(torch.load(base))\n",
    "model_ptsq = ResNet.from_state_dict(torch.load(base))\n",
    "model_ptsq = model_ptsq.prepare_quantization(qat=False, inplace=True)\n",
    "model_ptsq = model_ptsq.quantize(inplace=True)"
   ],
   "metadata": {
    "collapsed": false
   },
   "id": "f3d4712a4fa52f64"
  },
  {
   "cell_type": "code",
   "execution_count": null,
   "outputs": [],
   "source": [
    "print(f'Baseline Model Size: {model_base.model_size():.3f} Mb')\n",
    "print(f'Quantized Model Size: {model_ptsq.model_size():.3f} Mb')"
   ],
   "metadata": {
    "collapsed": false
   },
   "id": "944f56f2ee430708"
  },
  {
   "cell_type": "code",
   "execution_count": null,
   "outputs": [],
   "source": [
    "model_ptsq.state_dict()"
   ],
   "metadata": {
    "collapsed": false
   },
   "id": "7803bb9b4a2cc4a2"
  },
  {
   "cell_type": "code",
   "execution_count": null,
   "outputs": [],
   "source": [
    "test_loss = 0\n",
    "correct = 0\n",
    "times = []\n",
    "with torch.no_grad():\n",
    "    for batch_idx, (data, target, target_idx, target_lbl, data_idx, pitch_shift) in enumerate(test_loader_cpu):\n",
    "        st = time.perf_counter()\n",
    "        output = model_ptsq(data)\n",
    "        et = time.perf_counter() - st\n",
    "        times.append(et)\n",
    "        \n",
    "        test_loss += criterion(output, target).item()\n",
    "        \n",
    "        # Get ACC\n",
    "        pred = output.argmax(dim=1)\n",
    "        correct += (pred == target_idx).sum().item()\n",
    "    \n",
    "        current = batch_idx * len(data)\n",
    "        total = len(test_loader.dataset)\n",
    "        percent = 100. * batch_idx / len(test_loader)\n",
    "        print(f'Test [{current}/{total} ({percent:.0f}%)]\\tCorrect: {correct}/{total}\\tACC: {(correct / (current+1))*100:.2f}%\\tTime: {et:.2f}s')"
   ],
   "metadata": {
    "collapsed": false
   },
   "id": "b8389bf99d8ae5dc"
  },
  {
   "cell_type": "code",
   "execution_count": null,
   "outputs": [],
   "source": [
    "cpu_time_mean = sum(times) / 250\n",
    "if len(times) > 1:\n",
    "    cpu_time_std = statistics.stdev(times)\n",
    "print(f'Time: {cpu_time_mean:.4f}±{cpu_time_std:.2f} s')"
   ],
   "metadata": {
    "collapsed": false
   },
   "id": "20ba0803b97d6879"
  },
  {
   "cell_type": "markdown",
   "source": [
    "### Quantization Aware Model"
   ],
   "metadata": {
    "collapsed": false
   },
   "id": "6dfe508d592ee3ea"
  },
  {
   "cell_type": "code",
   "execution_count": null,
   "outputs": [],
   "source": [
    "path = 'models/resnet_ep51_acc100_sprs23_qat.pt'\n",
    "model_base = ResNet.from_state_dict(torch.load(base))\n",
    "model_pre = ResNet.from_state_dict(torch.load(path))"
   ],
   "metadata": {
    "collapsed": false
   },
   "id": "76b97e8c2b0d913b"
  },
  {
   "cell_type": "code",
   "execution_count": null,
   "outputs": [],
   "source": [
    "model_int8 = ResNet.from_state_dict(torch.load(path))\n",
    "model_int8 = model_int8.prepare_quantization(qat=True, inplace=True)\n",
    "model_int8 = model_int8.quantize(inplace=True)"
   ],
   "metadata": {
    "collapsed": false
   },
   "id": "e79df5325a1d66d7"
  },
  {
   "cell_type": "code",
   "execution_count": null,
   "outputs": [],
   "source": [
    "print(f'Baseline Model Size: {model_base.model_size():.3f} Mb')\n",
    "print(f'Original Model Size: {model_pre.model_size():.3f} Mb')\n",
    "print(f'Quantized Model Size: {model_int8.model_size():.3f} Mb')"
   ],
   "metadata": {
    "collapsed": false
   },
   "id": "7414c02de6f09b"
  },
  {
   "cell_type": "code",
   "execution_count": null,
   "outputs": [],
   "source": [
    "print('--- QAT ---')\n",
    "\n",
    "st = time.perf_counter()\n",
    "prediction = model_base(torch.rand(1, 1, 128, 111))\n",
    "bet = time.perf_counter() - st\n",
    "print(f'Baseline Time: {bet:.5f} s')\n",
    "\n",
    "st = time.perf_counter()\n",
    "prediction = model_pre(torch.rand(1, 1, 128, 111))\n",
    "oet = time.perf_counter() - st\n",
    "print(f'Original Time: {oet:.5f} s')\n",
    "\n",
    "st = time.perf_counter()\n",
    "prediction = model_int8(torch.rand(1, 1, 128, 111))\n",
    "qet = time.perf_counter() - st\n",
    "print(f'Quantized Time: {qet:.5f} s')"
   ],
   "metadata": {
    "collapsed": false
   },
   "id": "c1f9ad68de7ffc4c"
  },
  {
   "cell_type": "code",
   "execution_count": null,
   "outputs": [],
   "source": [
    "model_base.to(device)\n",
    "accuracy, sparsity, significance, gpu_time, cpu_time_mean, cpu_time_std, num_params = test(model_base, test_loader, criterion, \n",
    "                                                                                           cpu_tests=32, return_time=True, log_interval=10, num_steps=10, device=device)"
   ],
   "metadata": {
    "collapsed": false
   },
   "id": "9955e58249c584d7"
  },
  {
   "cell_type": "code",
   "execution_count": null,
   "outputs": [],
   "source": [
    "model_pre.to(device)\n",
    "accuracy, sparsity, significance, gpu_time, cpu_time_mean, cpu_time_std, num_params = test(model_pre, test_loader, criterion, \n",
    "                                                                                           cpu_tests=32, return_time=True, log_interval=10, num_steps=10, device=device)"
   ],
   "metadata": {
    "collapsed": false
   },
   "id": "c65f6f7eae05fe1c"
  },
  {
   "cell_type": "code",
   "execution_count": null,
   "outputs": [],
   "source": [
    "test_loss = 0\n",
    "correct = 0\n",
    "times = []\n",
    "with torch.no_grad():\n",
    "    for batch_idx, (data, target, target_idx, target_lbl, data_idx, pitch_shift) in enumerate(test_loader_cpu):\n",
    "        st = time.perf_counter()\n",
    "        output = model_int8(data)\n",
    "        et = time.perf_counter() - st\n",
    "        times.append(et)\n",
    "        \n",
    "        test_loss += criterion(output, target).item()\n",
    "        \n",
    "        # Get ACC\n",
    "        pred = output.argmax(dim=1)\n",
    "        correct += (pred == target_idx).sum().item()\n",
    "    \n",
    "        current = batch_idx * len(data)\n",
    "        total = len(test_loader.dataset)\n",
    "        percent = 100. * batch_idx / len(test_loader)\n",
    "        print(f'Test [{current}/{total} ({percent:.0f}%)]\\tCorrect: {correct}/{total}\\tACC: {(correct / (current+1))*100:.2f}%\\tTime: {et:.2f}s')"
   ],
   "metadata": {
    "collapsed": false
   },
   "id": "2b3e839c03cf6e8a"
  },
  {
   "cell_type": "code",
   "execution_count": null,
   "outputs": [],
   "source": [
    "cpu_time_mean = sum(times) / 250\n",
    "if len(times) > 1:\n",
    "    cpu_time_std = statistics.stdev(times)\n",
    "print(f'Time: {cpu_time_mean:.4f}±{cpu_time_std:.2f} s')"
   ],
   "metadata": {
    "collapsed": false
   },
   "id": "751671d1c4f1124f"
  },
  {
   "cell_type": "code",
   "execution_count": null,
   "outputs": [],
   "source": [
    "model_int8.state_dict()"
   ],
   "metadata": {
    "collapsed": false
   },
   "id": "3afdf63eb34cfdce"
  },
  {
   "cell_type": "code",
   "execution_count": null,
   "outputs": [],
   "source": [
    "summary(model_int8, input_size=(1, 128, 111))"
   ],
   "metadata": {
    "collapsed": false,
    "is_executing": true
   },
   "id": "474efd4961262af9"
  }
 ],
 "metadata": {
  "kernelspec": {
   "display_name": "Python 3",
   "language": "python",
   "name": "python3"
  },
  "language_info": {
   "codemirror_mode": {
    "name": "ipython",
    "version": 2
   },
   "file_extension": ".py",
   "mimetype": "text/x-python",
   "name": "python",
   "nbconvert_exporter": "python",
   "pygments_lexer": "ipython2",
   "version": "2.7.6"
  }
 },
 "nbformat": 4,
 "nbformat_minor": 5
}
