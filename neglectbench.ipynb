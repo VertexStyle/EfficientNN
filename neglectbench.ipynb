{
 "cells": [
  {
   "cell_type": "markdown",
   "source": [
    "# Conditional Computation\n",
    "Called \"neglection\" in this implementation"
   ],
   "metadata": {
    "collapsed": false
   },
   "id": "30ae0d70b9ff1380"
  },
  {
   "cell_type": "code",
   "execution_count": 2,
   "outputs": [
    {
     "name": "stderr",
     "output_type": "stream",
     "text": [
      "/usr/lib/python3/dist-packages/paramiko/transport.py:220: CryptographyDeprecationWarning: Blowfish has been deprecated\n",
      "  \"class\": algorithms.Blowfish,\n"
     ]
    }
   ],
   "source": [
    "import time\n",
    "import os\n",
    "import json\n",
    "import random\n",
    "import numpy as np\n",
    "import librosa\n",
    "import hashlib\n",
    "import sounddevice as sd\n",
    "import pickle as pkl\n",
    "import dill\n",
    "import datetime\n",
    "import matplotlib.pyplot as plt\n",
    "from torchsummary import summary\n",
    "\n",
    "import torch\n",
    "import torch.nn as nn\n",
    "import torchaudio\n",
    "from torch.utils.data import DataLoader\n",
    "\n",
    "from src.resnet import ResNet\n",
    "from src.dataset import GoogleSpeechCommandsDataset\n",
    "from src.train import test"
   ],
   "metadata": {
    "collapsed": false,
    "ExecuteTime": {
     "start_time": "2024-02-04T21:09:41.036829290Z"
    }
   },
   "id": "initial_id"
  },
  {
   "cell_type": "code",
   "execution_count": 11,
   "outputs": [],
   "source": [
    "# Parameters\n",
    "measurements = [0., 0.125, 0.25, 0.375, 0.5, 0.625, 0.75, 0.875, 1.]\n",
    "\n",
    "use_snn = False\n",
    "use_cpu = False\n",
    "path = 'models/'\n",
    "model_name = 'neglect_resnet_ep59_acc93_sprs0.pt' if use_snn else 'neglect_resnet_ep59_acc93_sprs0.pt'\n",
    "base_model_name = 'resnnet_ep47_acc72_sprs68.pt' if use_snn else 'resnet_ep55_acc99_sprs0.pt'\n",
    "data_test_dir = '/home/marcel/Source/Python/DLOptimization/data/speech_commands_test_set_v0.02'\n",
    "data_cache_dir = '/home/marcel/Source/Python/DLOptimization/cache/data/'\n",
    "load_data_from_dir = './runs/neglectbench/neglectbench.pkl'"
   ],
   "metadata": {
    "collapsed": false,
    "ExecuteTime": {
     "end_time": "2024-02-04T21:39:46.440383617Z",
     "start_time": "2024-02-04T21:39:46.136482283Z"
    }
   },
   "id": "12267b20c5decc4b"
  },
  {
   "cell_type": "code",
   "execution_count": 9,
   "outputs": [],
   "source": [
    "# Load model\n",
    "torch.set_flush_denormal(True)\n",
    "device = torch.device(\"cuda\" if not use_cpu and torch.cuda.is_available() else \"cpu\")\n",
    "model_path = str(os.path.join(path, model_name))\n",
    "model = ResNet.from_state_dict(torch.load(model_path), neglect=0.5)\n",
    "model.neglect = True\n",
    "base_model_path = str(os.path.join(path, base_model_name))\n",
    "base_model = ResNet.from_state_dict(torch.load(base_model_path), spiking=True)\n",
    "model.to(device)\n",
    "base_model.to(device)\n",
    "criterion = nn.CrossEntropyLoss()"
   ],
   "metadata": {
    "collapsed": false,
    "ExecuteTime": {
     "end_time": "2024-02-04T21:12:35.087316166Z",
     "start_time": "2024-02-04T21:12:31.672795875Z"
    }
   },
   "id": "3f4d7997df659580"
  },
  {
   "cell_type": "code",
   "execution_count": null,
   "outputs": [],
   "source": [
    "# Load data\n",
    "test_data = GoogleSpeechCommandsDataset(data_test_dir, data_cache_dir, encoder='mel', augment=0, train=False)\n",
    "test_data.precache()\n",
    "test_loader = DataLoader(test_data, batch_size=8, shuffle=True)"
   ],
   "metadata": {
    "collapsed": false
   },
   "id": "ab3c8fe6b0dc4db2"
  },
  {
   "cell_type": "markdown",
   "source": [
    "### Testing \n",
    "Baseline vs. Neglection Model"
   ],
   "metadata": {
    "collapsed": false
   },
   "id": "a1652869ce0805a5"
  },
  {
   "cell_type": "code",
   "execution_count": null,
   "outputs": [],
   "source": [
    "(base_accuracy, base_sparsity, base_significance, \n",
    " base_gpu_time, base_cpu_time_mean, base_cpu_time_std, base_num_params) = test(base_model, test_loader, criterion, \n",
    "                                                                               cpu_tests=100, return_time=True, log_interval=512,\n",
    "                                                                               neglect_threshold=1, num_steps=5, device=device)"
   ],
   "metadata": {
    "collapsed": false
   },
   "id": "3333598fb26ced51"
  },
  {
   "cell_type": "code",
   "execution_count": null,
   "outputs": [],
   "source": [
    "test_loader = DataLoader(test_data, batch_size=1, shuffle=True)\n",
    "values = []\n",
    "for th in measurements:\n",
    "    value = {}\n",
    "    accuracy, sparsity, significance, gpu_time, cpu_time_mean, cpu_time_std, num_params = test(model, test_loader, criterion, \n",
    "                                                                                               cpu_tests=100, return_time=True, log_interval=512,\n",
    "                                                                                               neglect_threshold=th, num_steps=5, device=device)\n",
    "    value['accuracy'] = accuracy\n",
    "    value['sparsity'] = sparsity\n",
    "    value['significance'] = significance\n",
    "    value['gpu_time'] = gpu_time\n",
    "    value['cpu_time_mean'] = cpu_time_mean\n",
    "    value['cpu_time_std'] = cpu_time_std\n",
    "    value['num_params'] = num_params\n",
    "    value['threshold'] = th\n",
    "    value['stats'] = model.classifier_stats()\n",
    "    values.append(value)"
   ],
   "metadata": {
    "collapsed": false
   },
   "id": "bbf722fd0d34709f"
  },
  {
   "cell_type": "markdown",
   "source": [
    "### Save the benchmark"
   ],
   "metadata": {
    "collapsed": false
   },
   "id": "a3754930a69886e0"
  },
  {
   "cell_type": "code",
   "execution_count": 52,
   "outputs": [],
   "source": [
    "ct = datetime.datetime.now()\n",
    "with open(f'./runs/neglectbench/neglectbench_{model_name.split(\".\")[0]}_{ct.strftime(\"%Y-%m-%d_%H-%M\")}.pkl', 'wb') as f:\n",
    "    pkl.dump(values, f)"
   ],
   "metadata": {
    "collapsed": false,
    "ExecuteTime": {
     "end_time": "2024-02-04T00:17:16.186294184Z",
     "start_time": "2024-02-04T00:17:16.124023612Z"
    }
   },
   "id": "ce59b4d35d67ecc8"
  },
  {
   "cell_type": "markdown",
   "source": [
    "### Load a benchmark from file"
   ],
   "metadata": {
    "collapsed": false
   },
   "id": "3f75a857024d6db"
  },
  {
   "cell_type": "code",
   "execution_count": 12,
   "outputs": [],
   "source": [
    "if load_data_from_dir is not None:\n",
    "    with open(load_data_from_dir, 'rb') as f:\n",
    "        values = pkl.load(f)"
   ],
   "metadata": {
    "collapsed": false,
    "ExecuteTime": {
     "end_time": "2024-02-04T21:39:53.323979583Z",
     "start_time": "2024-02-04T21:39:53.291126747Z"
    }
   },
   "id": "72dbdfa28a5eace5"
  },
  {
   "cell_type": "code",
   "execution_count": 14,
   "outputs": [
    {
     "name": "stdout",
     "output_type": "stream",
     "text": [
      "{'accuracy': 0.18041237113402062, 'sparsity': 6.308922593234456e-07, 'significance': 0.01861095428466797, 'gpu_time': 0.007194587743986177, 'cpu_time_mean': 0.16091453749009815, 'cpu_time_std': 0.027293923784431306, 'num_params': 56931739, 'threshold': 0.0, 'stats': {'classifier1': 0, 'classifier2': 0, 'classifier3': 0, 'classifier4': 0}}\n",
      "{'accuracy': 0.18041237113402062, 'sparsity': 6.308922593234456e-07, 'significance': 0.01861095428466797, 'gpu_time': 0.003191710828178658, 'cpu_time_mean': 0.16620849339995403, 'cpu_time_std': 0.029475454131033762, 'num_params': 56931739, 'threshold': 0.125, 'stats': {'classifier1': 0, 'classifier2': 0, 'classifier3': 0, 'classifier4': 0}}\n",
      "{'accuracy': 0.1872852233676976, 'sparsity': 6.308922593234456e-07, 'significance': 0.01861095428466797, 'gpu_time': 0.0030426571877760792, 'cpu_time_mean': 0.16583913951008072, 'cpu_time_std': 0.030214119967986494, 'num_params': 56931739, 'threshold': 0.25, 'stats': {'classifier1': 0, 'classifier2': 0, 'classifier3': 0, 'classifier4': 0}}\n",
      "{'accuracy': 0.4005891016200295, 'sparsity': 6.308922593234456e-07, 'significance': 0.01861095428466797, 'gpu_time': 0.0034411239509082596, 'cpu_time_mean': 0.2117736532998788, 'cpu_time_std': 0.0846114905124235, 'num_params': 56931739, 'threshold': 0.375, 'stats': {'classifier1': 0, 'classifier2': 0, 'classifier3': 0, 'classifier4': 0}}\n",
      "{'accuracy': 0.6877761413843888, 'sparsity': 6.308922593234456e-07, 'significance': 0.01861095428466797, 'gpu_time': 0.0048459256723123465, 'cpu_time_mean': 0.26648501370000305, 'cpu_time_std': 0.09023360797898704, 'num_params': 56931739, 'threshold': 0.5, 'stats': {'classifier1': 0, 'classifier2': 0, 'classifier3': 0, 'classifier4': 0}}\n",
      "{'accuracy': 0.8286696121747669, 'sparsity': 6.308922593234456e-07, 'significance': 0.01861095428466797, 'gpu_time': 0.0045783345382915735, 'cpu_time_mean': 0.305294096939906, 'cpu_time_std': 0.07350084357289059, 'num_params': 56931739, 'threshold': 0.625, 'stats': {'classifier1': 0, 'classifier2': 0, 'classifier3': 0, 'classifier4': 0}}\n",
      "{'accuracy': 0.885861561119293, 'sparsity': 6.308922593234456e-07, 'significance': 0.01861095428466797, 'gpu_time': 0.005031497723858634, 'cpu_time_mean': 0.3469213498399877, 'cpu_time_std': 0.09478184514317559, 'num_params': 56931739, 'threshold': 0.75, 'stats': {'classifier1': 0, 'classifier2': 0, 'classifier3': 0, 'classifier4': 0}}\n",
      "{'accuracy': 0.9086892488954345, 'sparsity': 6.308922593234456e-07, 'significance': 0.01861095428466797, 'gpu_time': 0.00562461758100159, 'cpu_time_mean': 0.36923825959000167, 'cpu_time_std': 0.06326843758834574, 'num_params': 56931739, 'threshold': 0.875, 'stats': {'classifier1': 0, 'classifier2': 0, 'classifier3': 0, 'classifier4': 0}}\n",
      "{'accuracy': 0.9302896416298478, 'sparsity': 6.308922593234456e-07, 'significance': 0.01861095428466797, 'gpu_time': 0.00535171390304354, 'cpu_time_mean': 0.39422423473006346, 'cpu_time_std': 0.06576971295531857, 'num_params': 56931739, 'threshold': 1.0, 'stats': {'classifier1': 0, 'classifier2': 0, 'classifier3': 0, 'classifier4': 0}}\n"
     ]
    }
   ],
   "source": [
    "for val in values:\n",
    "    print(val)"
   ],
   "metadata": {
    "collapsed": false,
    "ExecuteTime": {
     "end_time": "2024-02-04T21:40:23.946946826Z",
     "start_time": "2024-02-04T21:40:23.895808512Z"
    }
   },
   "id": "c9ca0d28bf3ebf8c"
  },
  {
   "cell_type": "markdown",
   "source": [
    "## Visualize"
   ],
   "metadata": {
    "collapsed": false
   },
   "id": "f6ce4e970d0c47a1"
  },
  {
   "cell_type": "code",
   "execution_count": 54,
   "outputs": [
    {
     "data": {
      "text/plain": "<Figure size 936x504 with 2 Axes>",
      "image/png": "[encoded data removed]"
     },
     "metadata": {
      "needs_background": "light"
     },
     "output_type": "display_data"
    }
   ],
   "source": [
    "fig, axs = plt.subplots(2, 1, figsize=(13, 7), sharex=True)\n",
    "\n",
    "accs = []\n",
    "sprs = []\n",
    "sigs = []\n",
    "gpus = []\n",
    "cpus_m = []\n",
    "cpus_s = []\n",
    "nums_p = []\n",
    "thrs = []\n",
    "datas = {}\n",
    "for i, (measurement, data) in enumerate(zip(measurements, values)):\n",
    "    accuracy = data.get('accuracy')\n",
    "    sparsity = data.get('sparsity')\n",
    "    significance = data.get('significance')\n",
    "    gpu_time = data.get('gpu_time')\n",
    "    cpu_time_mean = data.get('cpu_time_mean')\n",
    "    cpu_time_std = data.get('cpu_time_std')\n",
    "    num_params = data.get('num_params')\n",
    "    thresh = data.get('threshold', measurements[i])\n",
    "    stats = data.get('stats')\n",
    "    \n",
    "    accs.append(accuracy)\n",
    "    sprs.append(sparsity)\n",
    "    sigs.append(significance)\n",
    "    gpus.append(gpu_time)\n",
    "    cpus_m.append(cpu_time_mean)\n",
    "    cpus_s.append(cpu_time_std)\n",
    "    nums_p.append(num_params)\n",
    "    thrs.append(thresh)\n",
    "    datas[thresh] = stats\n",
    "\n",
    "# Plotting accuracy vs thresholds\n",
    "axs[0].plot(thrs, accs)\n",
    "axs[0].set_title(\"Accuracy vs. Threshold\")\n",
    "axs[0].set_ylabel(\"Accuracy\")\n",
    "axs[0].text(-0.033, 0.86, 'A', fontsize=22)\n",
    "\n",
    "# Plotting CPU mean time vs thresholds with standard deviation\n",
    "axs[1].plot(thrs, cpus_m)\n",
    "axs[1].fill_between(thrs, [m - s for m, s in zip(cpus_m, cpus_s)],  [m + s for m, s in zip(cpus_m, cpus_s)], alpha=0.1)\n",
    "axs[1].set_title(\"Inference Time vs. Threshold\")\n",
    "axs[1].set_xlabel(\"Threshold\")\n",
    "axs[1].set_ylabel(\"CPU Time\")\n",
    "axs[1].text(-0.033, 0.425, 'B', fontsize=22)\n",
    "plt.tight_layout()\n",
    "plt.show()"
   ],
   "metadata": {
    "collapsed": false,
    "ExecuteTime": {
     "end_time": "2024-02-04T00:18:11.830317529Z",
     "start_time": "2024-02-04T00:18:11.253810230Z"
    }
   },
   "id": "4a7954f8db42abbb"
  },
  {
   "cell_type": "code",
   "execution_count": 55,
   "outputs": [
    {
     "data": {
      "text/plain": "<Figure size 720x216 with 2 Axes>",
      "image/png": "[encoded data removed]"
     },
     "metadata": {
      "needs_background": "light"
     },
     "output_type": "display_data"
    }
   ],
   "source": [
    "thresholds = list(datas.keys())\n",
    "classifiers = list(datas[0].keys())\n",
    "counts = [[datas[thresh][classifier] for classifier in classifiers] for thresh in thresholds]\n",
    "counts_array = np.array(counts)\n",
    "\n",
    "plt.figure(figsize=(10, 3))\n",
    "plt.imshow(counts_array.T, aspect='auto', interpolation='none', cmap='Greys')\n",
    "plt.colorbar(label='Count')\n",
    "plt.yticks(range(len(classifiers)), classifiers)\n",
    "plt.xticks(range(len(thresholds)), thresholds)\n",
    "plt.ylabel('Classifiers')\n",
    "plt.xlabel('Threshold')\n",
    "plt.title('Classifier Counts at Different Thresholds')\n",
    "plt.show()"
   ],
   "metadata": {
    "collapsed": false,
    "ExecuteTime": {
     "end_time": "2024-02-04T00:18:17.629332065Z",
     "start_time": "2024-02-04T00:18:17.194968636Z"
    }
   },
   "id": "6b202ed4f967241c"
  },
  {
   "cell_type": "code",
   "execution_count": null,
   "outputs": [],
   "source": [],
   "metadata": {
    "collapsed": false
   },
   "id": "3fba054524e1918"
  }
 ],
 "metadata": {
  "kernelspec": {
   "display_name": "Python 3",
   "language": "python",
   "name": "python3"
  },
  "language_info": {
   "codemirror_mode": {
    "name": "ipython",
    "version": 2
   },
   "file_extension": ".py",
   "mimetype": "text/x-python",
   "name": "python",
   "nbconvert_exporter": "python",
   "pygments_lexer": "ipython2",
   "version": "2.7.6"
  }
 },
 "nbformat": 4,
 "nbformat_minor": 5
}
